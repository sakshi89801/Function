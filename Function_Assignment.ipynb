{
  "nbformat": 4,
  "nbformat_minor": 0,
  "metadata": {
    "colab": {
      "provenance": []
    },
    "kernelspec": {
      "name": "python3",
      "display_name": "Python 3"
    },
    "language_info": {
      "name": "python"
    }
  },
  "cells": [
    {
      "cell_type": "markdown",
      "source": [
        "1. What is the difference between a function and a method in Python?\n",
        "\n",
        "In Python both functions and methods are used to perform actions.\n",
        "\n",
        " Function:\n",
        "\n",
        "-A function is a block of reusable code that performs a specific task.\n",
        "\n",
        "-Defined using def keyword.\n",
        "\n",
        "-It is not associated with any object or class.\n",
        "\n",
        "Example-\n",
        "def greet():\n",
        "    print(\"Hello\")\n",
        "greet()\n",
        "\n",
        "Method:\n",
        "\n",
        "-A method is a function that is associated with an object.\n",
        "\n",
        "-Called using dot (.) notation on an object.\n",
        "\n",
        "-Commonly used with strings, lists, dictionaries,\n",
        "\n",
        "example-\n",
        "name = \"sakshi\"\n",
        "print(name.upper())\n",
        "\n",
        " 2. Explain the concept of function arguments and parameters in Python.\n",
        "\n",
        "Functions often need to receive input values to process. These inputs are handled using parameters and arguments.\n",
        "\n",
        "Parameters:\n",
        "\n",
        "-Variables listed in the function definition.\n",
        "\n",
        "-They act as placeholders for input values.\n",
        "\n",
        "example-\n",
        "def greet(name):  name is parameter\n",
        "    print(\"Hello\", name)\n",
        "\n",
        "Arguments:\n",
        "\n",
        "Actual values passed to the function when calling it.\n",
        "\n",
        "Types of Arguments:\n",
        "\n",
        "Positional Arguments  matched by order\n",
        "\n",
        "Keyword arguments matched by name\n",
        "\n",
        "Default arguments  predefined values\n",
        "\n",
        "Variable length arguments accept multiple values\n",
        "\n",
        "Example-\n",
        "greet(\"Sakshi\")  # Sakshi is the argument\n",
        "\n",
        "\n",
        " 3. What are the different ways to define and call a function in Python?\n",
        "\n",
        "  Function is a named block of reusable code that performs a specific task. Functions help in reducing code repetition, increasing modularity, and improving clarity.\n",
        "\n",
        "  Ways to Define a Function in Python:\n",
        "  Python provides two main ways to define a function:\n",
        "\n",
        "Using the def keyword named function\n",
        "\n",
        "This is the most common way to define a user-defined function.\n",
        "Example:\n",
        "def greet(name):\n",
        "    return \"Hello, \" + name\n",
        "\n",
        "print(greet(\"Sakshi\"))\n",
        "\n",
        " Using the lambda keyword\n",
        "A lambda function is a single-expression function with no name.\n",
        "Its mostly used for short-term usage\n",
        "Example\n",
        "square = lambda x: x * x\n",
        "print(square(5))  \n",
        "\n"
      ],
      "metadata": {
        "id": "dMFsyONTlfIy"
      }
    },
    {
      "cell_type": "markdown",
      "source": [
        " 4. What is the purpose of the `return` statement in a Python function?\n",
        "\n",
        "The return statement in Python functions is used to send back a value from the function to the caller.\n",
        "\n",
        "Use return\n",
        "It ends the function's execution.\n",
        "\n",
        "It sends back a result, which can be used elsewhere in the program.\n",
        "\n",
        " Without return:\n",
        "A function just performs an action but gives no value.\n",
        "Example:\n",
        "def show():\n",
        "    print(\"Hello\")\n",
        "\n",
        "x = show()  # x is None\n",
        "\n",
        " With return\n",
        "Example:\n",
        "def square(x):\n",
        "    return x * x\n",
        "\n",
        "print(square(4))  # Output: 16"
      ],
      "metadata": {
        "id": "qetnbMH9qx3B"
      }
    },
    {
      "cell_type": "markdown",
      "source": [
        "\n",
        " 5. What are iterators in Python and how do they differ from iterables?\n",
        "\n",
        "Iteration is the process of looping through a collection.\n",
        "Python provides iterables and iterators to handle loops efficiently.\n",
        "\n",
        "Iterable:\n",
        "Any object that can be looped using for.\n",
        "\n",
        "Examples: list, string, tuple.\n",
        "\n",
        "Iterator:\n",
        "An object with a __next__() method that returns the next value.\n",
        "\n",
        "Created using iter().\n",
        "\n",
        "Example:\n",
        "nums = [1, 2, 3]\n",
        "it = iter(nums)\n",
        "print(next(it))  # 1"
      ],
      "metadata": {
        "id": "FZ98AoRxsNMw"
      }
    },
    {
      "cell_type": "markdown",
      "source": [
        " 6. Explain the concept of generators in Python and how they are defined.\n",
        "\n",
        "Generators are a special kind of function that returns an iterator using the yield keyword instead of return.\n",
        "\n",
        "Characteristics:\n",
        "They pause after each yield.\n",
        "\n",
        "They resume from where they left.\n",
        "\n",
        "Memory efficient.\n",
        "\n",
        "Example:\n",
        "def count_up():\n",
        "    yield 1\n",
        "    yield 2\n",
        "    yield 3\n",
        "\n",
        "for num in count_up():\n",
        "    print(num)"
      ],
      "metadata": {
        "id": "sifeLGn8sfN8"
      }
    },
    {
      "cell_type": "markdown",
      "source": [
        " 7. What are the advantages of using generators over regular functions?\n",
        "\n",
        "Generators are used instead of regular functions when working with large or streaming data.\n",
        "\n",
        "Advantages:\n",
        "\n",
        "Memory Efficient: Doesnt store entire result at once.\n",
        "\n",
        "Faster: Returns first result instantly.\n",
        "\n",
        "Lazy Evaluation: Calculates only when needed.\n",
        "\n",
        "Simpler Code: Replaces complex iterator classes."
      ],
      "metadata": {
        "id": "QcUNamREs16L"
      }
    },
    {
      "cell_type": "markdown",
      "source": [
        " 8. What is a lambda function in Python and when is it typically used?\n",
        "\n",
        "Lambda functions are anonymous, one-line functions used for short, simple operations.\n",
        "\n",
        "Use:\n",
        "Inside map(), filter(), or reduce()\n",
        "\n",
        "When function is needed only once\n",
        "\n",
        "For quick mathematical or logical operations\n",
        "\n",
        "Example:\n",
        "square = lambda x: x*x\n",
        "print(square(5))  # 25"
      ],
      "metadata": {
        "id": "OO653wQttOn7"
      }
    },
    {
      "cell_type": "markdown",
      "source": [
        " 9. Explain the purpose and usage of the `map()` function in Python.\n",
        "\n",
        "The map function in Python is used to apply a function to every element of an iterable  and returns a new map object containing the results.\n",
        "\n",
        "It is a built-in higher-order function that takes two arguments: a function and an iterable. It is useful when the same transformation needs to be applied to each item of a sequence.\n",
        "\n",
        "The map function is commonly used with lambda functions for quick and efficient transformations, such as converting all strings to uppercase or squaring all numbers in a list.\n",
        "\n",
        "Example:\n",
        "nums = [1, 2, 3]\n",
        "squares = list(map(lambda x: x*x, nums))\n",
        "print(squares)  # [1, 4, 9]"
      ],
      "metadata": {
        "id": "cpuO0GLStmCs"
      }
    },
    {
      "cell_type": "markdown",
      "source": [
        "10. What is the difference between `map()`, `reduce()`, and `filter()` functions in Python?\n",
        "\n",
        "These three functions belong to Python's functional programming tools and operate on iterables:\n",
        "\n",
        "-map() applies a function to all items in an iterable and returns a new iterable with transformed items.\n",
        "\n",
        "-filter() selects elements from the iterable that meet a condition and returns a filtered iterable.\n",
        "\n",
        "-reduce()  applies a function cumulatively to reduce the iterable to a single value, such as summing all elements.\n",
        "\n",
        "Example:\n",
        "from functools import reduce\n",
        "\n",
        "nums = [1, 2, 3, 4]\n",
        "\n",
        "mapped = list(map(lambda x: x*2, nums))             [2, 4, 6, 8]\n",
        "filtered = list(filter(lambda x: x%2==0, nums))     [2, 4]\n",
        "reduced = reduce(lambda x, y: x + y, nums)\n"
      ],
      "metadata": {
        "id": "-quaiACa3yoT"
      }
    },
    {
      "cell_type": "markdown",
      "source": [
        "PRACTICAL QUESTIONS"
      ],
      "metadata": {
        "id": "EcIc_BT0wn6Q"
      }
    },
    {
      "cell_type": "code",
      "source": [
        "#1. Write a Python function that takes a list of numbers as input and returns the sum of all even numbers in the list.\n",
        "def sum_of_even(numbers):\n",
        "    return sum(num for num in numbers if num % 2 == 0)\n",
        "\n",
        "# Example\n",
        "print(sum_of_even([1, 2, 3, 4, 5, 6]))"
      ],
      "metadata": {
        "colab": {
          "base_uri": "https://localhost:8080/"
        },
        "id": "p1acl6aAwvKN",
        "outputId": "3ca7d872-762c-462d-ad8e-3b6fdff636db"
      },
      "execution_count": null,
      "outputs": [
        {
          "output_type": "stream",
          "name": "stdout",
          "text": [
            "12\n"
          ]
        }
      ]
    },
    {
      "cell_type": "code",
      "source": [
        "# 2. Create a Python function that accepts a string and returns the reverse of that string.\n",
        "def reverse_string(s):\n",
        "    return s[::-1]\n",
        "\n",
        "# Example\n",
        "print(reverse_string(\"Python\"))"
      ],
      "metadata": {
        "colab": {
          "base_uri": "https://localhost:8080/"
        },
        "id": "UUaJn2hlw1nc",
        "outputId": "caa8dafc-0c3a-49b2-c580-8c8612d80e2f"
      },
      "execution_count": null,
      "outputs": [
        {
          "output_type": "stream",
          "name": "stdout",
          "text": [
            "nohtyP\n"
          ]
        }
      ]
    },
    {
      "cell_type": "code",
      "source": [
        "#3. Implement a Python function that takes a list of integers and returns a new list containing the squares of each number.\n",
        "def square_list(numbers):\n",
        "    return [num ** 2 for num in numbers]\n",
        "\n",
        "# Example\n",
        "print(square_list([1, 2, 3, 4]))"
      ],
      "metadata": {
        "colab": {
          "base_uri": "https://localhost:8080/"
        },
        "id": "ABL2WthSw50q",
        "outputId": "e3d67ea8-7cb4-49c7-a87e-21a646a047f2"
      },
      "execution_count": null,
      "outputs": [
        {
          "output_type": "stream",
          "name": "stdout",
          "text": [
            "[1, 4, 9, 16]\n"
          ]
        }
      ]
    },
    {
      "cell_type": "code",
      "source": [
        " #4. Write a Python function that checks if a given number is prime or not from 1 to 200.\n",
        "\n",
        "def is_prime(n):\n",
        "    if n < 2:\n",
        "        return False\n",
        "    for i in range(2, int(n**0.5) + 1):\n",
        "        if n % i == 0:\n",
        "            return False\n",
        "    return True\n",
        "\n",
        "primes = [num for num in range(1, 201) if is_prime(num)]\n",
        "print(primes)"
      ],
      "metadata": {
        "colab": {
          "base_uri": "https://localhost:8080/"
        },
        "id": "EjNucgYHw_R1",
        "outputId": "84062d69-f960-462c-e150-c3087886d3c7"
      },
      "execution_count": null,
      "outputs": [
        {
          "output_type": "stream",
          "name": "stdout",
          "text": [
            "[2, 3, 5, 7, 11, 13, 17, 19, 23, 29, 31, 37, 41, 43, 47, 53, 59, 61, 67, 71, 73, 79, 83, 89, 97, 101, 103, 107, 109, 113, 127, 131, 137, 139, 149, 151, 157, 163, 167, 173, 179, 181, 191, 193, 197, 199]\n"
          ]
        }
      ]
    },
    {
      "cell_type": "code",
      "source": [
        "#5. Create an iterator class in Python that generates the Fibonacci sequence up to a specified number of terms.\n",
        "class Fibonacci:\n",
        "    def __init__(self, n):\n",
        "        self.n = n      # total terms\n",
        "        self.a = 0      # first number\n",
        "        self.b = 1      # second number\n",
        "        self.count = 0  # counter\n",
        "\n",
        "    def __iter__(self):\n",
        "        return self\n",
        "\n",
        "    def __next__(self):\n",
        "        if self.count >= self.n:\n",
        "            raise StopIteration\n",
        "        # Get current value\n",
        "        value = self.a\n",
        "        # Update next two numbers\n",
        "        self.a, self.b = self.b, self.a + self.b\n",
        "        self.count += 1\n",
        "        return value\n",
        "\n",
        "for i in Fibonacci(10):\n",
        "    print(i, end=' ')"
      ],
      "metadata": {
        "colab": {
          "base_uri": "https://localhost:8080/"
        },
        "id": "TJzhBG6Uxa4f",
        "outputId": "d71bcff5-b1a4-4e32-ae27-87ac3b87c3d6"
      },
      "execution_count": null,
      "outputs": [
        {
          "output_type": "stream",
          "name": "stdout",
          "text": [
            "0 1 1 2 3 5 8 13 21 34 "
          ]
        }
      ]
    },
    {
      "cell_type": "code",
      "source": [
        "#6. Write a generator function in Python that yields the powers of 2 up to a given exponent.\n",
        "def powers_of_two(limit):\n",
        "    for i in range(limit + 1):\n",
        "        yield 2 ** i\n",
        "\n",
        "for num in powers_of_two(5):\n",
        "    print(num, end=' ')"
      ],
      "metadata": {
        "colab": {
          "base_uri": "https://localhost:8080/"
        },
        "id": "Sn_kVByjxlF1",
        "outputId": "8103caa3-f22f-4d0b-e4b0-769010fc6cf0"
      },
      "execution_count": null,
      "outputs": [
        {
          "output_type": "stream",
          "name": "stdout",
          "text": [
            "1 2 4 8 16 32 "
          ]
        }
      ]
    },
    {
      "cell_type": "code",
      "source": [
        "# 7. Implement a generator function that reads a file line by line and yields each line as a string.\n",
        "with open(\"sample.txt\", \"w\") as f:\n",
        "    f.write(\"This is line 1\\n\")\n",
        "    f.write(\"This is line 2\\n\")\n",
        "    f.write(\"This is line 3\\n\")\n",
        "\n",
        "# Generator function\n",
        "def read_file_lines(filename):\n",
        "    with open(filename, \"r\") as f:\n",
        "        for line in f:\n",
        "            yield line.strip()\n",
        "\n",
        "# Using the generator\n",
        "for line in read_file_lines(\"sample.txt\"):\n",
        "    print(line)"
      ],
      "metadata": {
        "colab": {
          "base_uri": "https://localhost:8080/"
        },
        "id": "76SMRmOU0b3V",
        "outputId": "d358779b-bdf1-420d-fa07-fc5f7bac6bbd"
      },
      "execution_count": null,
      "outputs": [
        {
          "output_type": "stream",
          "name": "stdout",
          "text": [
            "This is line 1\n",
            "This is line 2\n",
            "This is line 3\n"
          ]
        }
      ]
    },
    {
      "cell_type": "code",
      "source": [
        "# 8. Use a lambda function in Python to sort a list of tuples based on the second element of each tuple.\n",
        "data = [(5, 9), (1, 3), (8, 1), (2, 4)]\n",
        "\n",
        "# Sorting using lambda\n",
        "sorted_data = sorted(data, key=lambda x: x[1])\n",
        "print(sorted_data)"
      ],
      "metadata": {
        "colab": {
          "base_uri": "https://localhost:8080/"
        },
        "id": "d1LgcO_R0mgo",
        "outputId": "0908afbe-fdbd-478c-d9d3-2fff5fb357a9"
      },
      "execution_count": null,
      "outputs": [
        {
          "output_type": "stream",
          "name": "stdout",
          "text": [
            "[(8, 1), (1, 3), (2, 4), (5, 9)]\n"
          ]
        }
      ]
    },
    {
      "cell_type": "code",
      "source": [
        "# 9. Write a Python program that uses `map()` to convert a list of temperatures from Celsius to Fahrenheit.\n",
        "\n",
        "celsius = [0, 25, 40, 100]\n",
        "\n",
        "# Convert to Fahrenheit\n",
        "fahrenheit = list(map(lambda c: (c * 9/5) + 32, celsius))\n",
        "print(fahrenheit)"
      ],
      "metadata": {
        "colab": {
          "base_uri": "https://localhost:8080/"
        },
        "id": "fndhi89M0r8m",
        "outputId": "f219d24d-c099-4339-81d8-cf2c99469ab7"
      },
      "execution_count": null,
      "outputs": [
        {
          "output_type": "stream",
          "name": "stdout",
          "text": [
            "[32.0, 77.0, 104.0, 212.0]\n"
          ]
        }
      ]
    },
    {
      "cell_type": "code",
      "source": [
        "# 10. Create a Python program that uses `filter()` to remove all the vowels from a given string.\n",
        "def remove_vowels(text):\n",
        "    vowels = \"aeiouAEIOU\"\n",
        "    return ''.join(filter(lambda char: char not in vowels, text))\n",
        "\n",
        "# Example usage\n",
        "output = remove_vowels(\"Sakshi Singh\")\n",
        "print(output)"
      ],
      "metadata": {
        "colab": {
          "base_uri": "https://localhost:8080/"
        },
        "id": "E5Nf_dU_0wqh",
        "outputId": "5fb8b1cc-cb3b-4e3d-f702-5a3c4a1c943b"
      },
      "execution_count": null,
      "outputs": [
        {
          "output_type": "stream",
          "name": "stdout",
          "text": [
            "Sksh Sngh\n"
          ]
        }
      ]
    },
    {
      "cell_type": "code",
      "source": [
        "#11. Imagine an accounting routine used in a book shop. It works on a list with sublists, which look like this:\n",
        "\n",
        "orders = [\n",
        "    [34587, \"Learning Python, Mark Lutz\", 4, 40.95],\n",
        "    [98762, \"Programming Python, Mark Lutz\", 5, 56.80],\n",
        "    [77226, \"Head First Python, Paul Barry\", 3, 32.95],\n",
        "    [88112, \"Einführung in Python3, Bernd Klein\", 3, 24.99]\n",
        "]\n",
        "\n",
        "# Lambda + map to calculate total price with surcharge\n",
        "invoice = list(map(\n",
        "    lambda order: (\n",
        "        order[0],  # Order Number\n",
        "        round(order[2] * order[3] + (10 if order[2] * order[3] < 100 else 0), 2)\n",
        "    ),\n",
        "    orders\n",
        "))\n",
        "\n",
        "# Output result\n",
        "print(invoice)"
      ],
      "metadata": {
        "colab": {
          "base_uri": "https://localhost:8080/"
        },
        "id": "W9ncZfe51Vv7",
        "outputId": "32624a98-9447-4b3c-a188-6db6b2406eda"
      },
      "execution_count": null,
      "outputs": [
        {
          "output_type": "stream",
          "name": "stdout",
          "text": [
            "[(34587, 163.8), (98762, 284.0), (77226, 108.85), (88112, 84.97)]\n"
          ]
        }
      ]
    }
  ]
}